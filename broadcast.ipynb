{
 "cells": [
  {
   "cell_type": "code",
   "execution_count": 1,
   "metadata": {},
   "outputs": [],
   "source": [
    "import torch"
   ]
  },
  {
   "cell_type": "markdown",
   "metadata": {},
   "source": [
    "### We want to broadcast a tensor \n",
    "\\begin{pmatrix}\n",
    "1 & 3 & 5 & 7\\\\\n",
    "2 & 4 & 6 & 8\n",
    "\\end{pmatrix}\n",
    "\n",
    "### to \n",
    "\n",
    "\\begin{pmatrix}\n",
    "1 & 1 & 1 & 1 & 3 & 3 & 3 & 3 & 5 & 5 & 5 & 5 & 7 & 7 & 7 & 7\\\\\n",
    "2 & 2 & 2 & 2 & 4 & 4 & 4 & 4 & 6 & 6 & 6 & 6 & 8 & 8 & 8 & 8\n",
    "\\end{pmatrix}\n",
    "\n",
    "It is useful for a multidimensional tensor(dimension size >1) and want to broadcast such a way that every column(or dimensional row) will be repeated multiple times(here 4)"
   ]
  },
  {
   "cell_type": "code",
   "execution_count": 2,
   "metadata": {},
   "outputs": [],
   "source": [
    "def broadcast_multi_multi(x,no_of_repeat):\n",
    "    height, width = x.shape[0], x.shape[1]\n",
    "    x = x.view(-1).unsqueeze(-1)  #[height*width , 1]\n",
    "    x = x.broadcast_to((height*width, no_of_repeat))\n",
    "    x = x.reshape(height,-1)\n",
    "    return x"
   ]
  },
  {
   "cell_type": "code",
   "execution_count": 3,
   "metadata": {},
   "outputs": [
    {
     "name": "stdout",
     "output_type": "stream",
     "text": [
      "tensor([[1, 3, 5, 7],\n",
      "        [2, 4, 6, 8]])\n"
     ]
    }
   ],
   "source": [
    "a = torch.tensor([\n",
    "                  [1,3,5,7],\n",
    "                  [2,4,6,8]\n",
    "])\n",
    "print(a)"
   ]
  },
  {
   "cell_type": "code",
   "execution_count": 4,
   "metadata": {},
   "outputs": [
    {
     "name": "stdout",
     "output_type": "stream",
     "text": [
      "tensor([[1, 1, 1, 1, 3, 3, 3, 3, 5, 5, 5, 5, 7, 7, 7, 7],\n",
      "        [2, 2, 2, 2, 4, 4, 4, 4, 6, 6, 6, 6, 8, 8, 8, 8]])\n"
     ]
    }
   ],
   "source": [
    "x = broadcast_multi_multi(a,4)\n",
    "print(x)"
   ]
  },
  {
   "cell_type": "code",
   "execution_count": null,
   "metadata": {},
   "outputs": [],
   "source": []
  }
 ],
 "metadata": {
  "interpreter": {
   "hash": "1074520fa9fb068d1a4d2ef6abe9ec75c2f76f1ef50ae5bf3bc9d727e2b442c8"
  },
  "kernelspec": {
   "display_name": "Python 3.9.4 ('workenv')",
   "language": "python",
   "name": "python3"
  },
  "language_info": {
   "codemirror_mode": {
    "name": "ipython",
    "version": 3
   },
   "file_extension": ".py",
   "mimetype": "text/x-python",
   "name": "python",
   "nbconvert_exporter": "python",
   "pygments_lexer": "ipython3",
   "version": "3.9.4"
  },
  "orig_nbformat": 4
 },
 "nbformat": 4,
 "nbformat_minor": 2
}
